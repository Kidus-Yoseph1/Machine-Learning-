{
 "cells": [
  {
   "cell_type": "code",
   "execution_count": 22,
   "id": "8bdbd196-6ca3-41f0-b604-c1709024ae66",
   "metadata": {},
   "outputs": [],
   "source": [
    "import pandas as pd \n",
    "import numpy as np \n",
    "import matplotlib.pyplot as plt \n",
    "import seaborn as sns\n",
    "from sklearn.compose import ColumnTransformer\n",
    "from sklearn.preprocessing import  LabelEncoder, OneHotEncoder, TargetEncoder,OrdinalEncoder\n",
    "from sklearn.model_selection import train_test_split, GridSearchCV\n",
    "from sklearn.svm import SVC\n",
    "from sklearn.ensemble import RandomForestClassifier\n",
    "from xgboost import XGBClassifier\n",
    "from lightgbm import LGBMClassifier\n",
    "from sklearn.metrics import accuracy_score\n",
    "from sklearn.pipeline import Pipeline\n",
    "import pickle"
   ]
  },
  {
   "cell_type": "markdown",
   "id": "aa59c412-2594-4192-9e6b-0a44f8b0ffd8",
   "metadata": {},
   "source": [
    "## Data Preprocessing"
   ]
  },
  {
   "cell_type": "code",
   "execution_count": 3,
   "id": "45394459-2dbf-4a43-9180-066b356d6232",
   "metadata": {},
   "outputs": [],
   "source": [
    "## Import the data \n",
    "df = pd.read_csv('Cleaned_churn_data.csv')\n",
    "\n",
    "# separate features and Target \n",
    "X = df.drop(['Customer Status','Customer ID','Zip Code','Latitude','Longitude'], axis = 1)\n",
    "y = df['Customer Status']"
   ]
  },
  {
   "cell_type": "code",
   "execution_count": 4,
   "id": "b7ffa02c-5658-401f-9c2f-0f8cd46da2d8",
   "metadata": {},
   "outputs": [
    {
     "data": {
      "text/plain": [
       "['Gender',\n",
       " 'Married',\n",
       " 'City',\n",
       " 'Phone Service',\n",
       " 'Multiple Lines',\n",
       " 'Internet Service',\n",
       " 'Internet Type',\n",
       " 'Online Security',\n",
       " 'Online Backup',\n",
       " 'Device Protection Plan',\n",
       " 'Premium Tech Support',\n",
       " 'Streaming TV',\n",
       " 'Streaming Movies',\n",
       " 'Streaming Music',\n",
       " 'Unlimited Data',\n",
       " 'Contract',\n",
       " 'Paperless Billing',\n",
       " 'Payment Method']"
      ]
     },
     "execution_count": 4,
     "metadata": {},
     "output_type": "execute_result"
    }
   ],
   "source": [
    "cat_cols = X.select_dtypes(include = 'object').columns.tolist()\n",
    "cat_cols"
   ]
  },
  {
   "cell_type": "markdown",
   "id": "e699f4ea-2349-43a9-8416-e6f7f49d5731",
   "metadata": {},
   "source": [
    "### Splitting the dataset into Training and Test set"
   ]
  },
  {
   "cell_type": "code",
   "execution_count": 6,
   "id": "8f9e0c4d-5dc1-473d-b854-7207bb30d80c",
   "metadata": {},
   "outputs": [],
   "source": [
    "X_train, X_test, y_train, y_test = train_test_split(X,y, test_size = 0.2, random_state = 42)"
   ]
  },
  {
   "cell_type": "markdown",
   "id": "6387fe7a-189c-4f1a-b4c2-17fe32a86630",
   "metadata": {},
   "source": [
    "#### Change Yes or No Values with 1s and 0s"
   ]
  },
  {
   "cell_type": "code",
   "execution_count": 8,
   "id": "06e75c9b-7d40-4229-99f5-f246402041e5",
   "metadata": {},
   "outputs": [
    {
     "name": "stderr",
     "output_type": "stream",
     "text": [
      "C:\\Users\\kidus\\AppData\\Local\\Temp\\ipykernel_2708\\2742324680.py:7: FutureWarning: Downcasting behavior in `replace` is deprecated and will be removed in a future version. To retain the old behavior, explicitly call `result.infer_objects(copy=False)`. To opt-in to the future behavior, set `pd.set_option('future.no_silent_downcasting', True)`\n",
      "  X_train[cat_cols_with_Yes_or_No_val] = X_train[cat_cols_with_Yes_or_No_val].replace({'Yes':1,'No':0})\n",
      "C:\\Users\\kidus\\AppData\\Local\\Temp\\ipykernel_2708\\2742324680.py:8: FutureWarning: Downcasting behavior in `replace` is deprecated and will be removed in a future version. To retain the old behavior, explicitly call `result.infer_objects(copy=False)`. To opt-in to the future behavior, set `pd.set_option('future.no_silent_downcasting', True)`\n",
      "  X_test[cat_cols_with_Yes_or_No_val] = X_test[cat_cols_with_Yes_or_No_val].replace({'Yes':1,'No':0})\n"
     ]
    }
   ],
   "source": [
    "# columns with Yes or No values\n",
    "cat_cols_with_Yes_or_No_val = ['Married','Phone Service','Multiple Lines','Internet Service',\n",
    "                               'Online Security','Online Backup','Device Protection Plan','Premium Tech Support',\n",
    "                               'Streaming TV','Streaming Movies','Streaming Music','Unlimited Data','Paperless Billing']\n",
    "\n",
    "# change Yes or No values to 0 and 1 \n",
    "X_train[cat_cols_with_Yes_or_No_val] = X_train[cat_cols_with_Yes_or_No_val].replace({'Yes':1,'No':0})\n",
    "X_test[cat_cols_with_Yes_or_No_val] = X_test[cat_cols_with_Yes_or_No_val].replace({'Yes':1,'No':0})"
   ]
  },
  {
   "cell_type": "code",
   "execution_count": 9,
   "id": "6b94862d-6309-4821-8ba4-36e05a2c0aab",
   "metadata": {},
   "outputs": [],
   "source": [
    "# categorical columns in X\n",
    "categorical_cols = X.select_dtypes(include ='object').columns.tolist()"
   ]
  },
  {
   "cell_type": "markdown",
   "id": "62f7090f-ee41-43db-bbb4-f1f46003d02e",
   "metadata": {},
   "source": [
    "#### Create a pipleline for Eccoding Categorical Columns"
   ]
  },
  {
   "cell_type": "code",
   "execution_count": 36,
   "id": "73aadb11-833d-4c7c-9afc-768e87e835c0",
   "metadata": {},
   "outputs": [],
   "source": [
    "# One-Hot Encoding (Gender, Internet Type, Payment Method)\n",
    "ohe_features = ['Gender', 'Internet Type', 'Payment Method']\n",
    "ohe_transformer = Pipeline(steps=[\n",
    "    ('encoder', OneHotEncoder(handle_unknown='ignore', sparse_output=False))\n",
    "])\n",
    "\n",
    "#Ordinalencoding for ordinal feature(Contract)\n",
    "contract_categories_ordered = ['Month-to-Month', 'One Year', 'Two Year']\n",
    "ordinal_features = ['Contract']                         \n",
    "ordinal_transformer = Pipeline(steps=[\n",
    "    ('encoder', OrdinalEncoder(categories=[contract_categories_ordered], handle_unknown='use_encoded_value', unknown_value=-1))\n",
    "])\n",
    "\n",
    "# Target encoding for City \n",
    "target_encode_features = ['City']\n",
    "target_encoder_transformer = Pipeline(steps=[\n",
    "    ('encoder', TargetEncoder(smooth=10)) # Adjust smoothing params \n",
    "])\n",
    "\n",
    "\n",
    "preprocessor = ColumnTransformer(\n",
    "    transformers=[\n",
    "        ('ordinal_features', ordinal_transformer, ordinal_features),\n",
    "        ('ohe_features', ohe_transformer, ohe_features),\n",
    "        ('target_encode_city', target_encoder_transformer, target_encode_features),\n",
    "    ],\n",
    "    remainder='passthrough'\n",
    ")\n",
    "# encode the Target Variable\n",
    "le= LabelEncoder()\n",
    "y_train_encoded = le.fit_transform(y_train)\n",
    "\n",
    "# 3. Transform y_test using the SAME fitted LabelEncoder\n",
    "y_test_encoded = le.transform(y_test)\n",
    "y_test_encoded = le.transform(y_test)"
   ]
  },
  {
   "cell_type": "markdown",
   "id": "d4ea633b-fb31-4f32-aaf3-18c13d01de4b",
   "metadata": {},
   "source": [
    "### Create a Model Pipline and Train the Model "
   ]
  },
  {
   "cell_type": "code",
   "execution_count": 39,
   "id": "ad5f6730-7957-438e-ad45-6969d996aa33",
   "metadata": {},
   "outputs": [
    {
     "name": "stdout",
     "output_type": "stream",
     "text": [
      "Fitting 5 folds for each of 24 candidates, totalling 120 fits\n",
      "[LightGBM] [Info] Auto-choosing row-wise multi-threading, the overhead of testing was 0.000532 seconds.\n",
      "You can set `force_row_wise=true` to remove the overhead.\n",
      "And if memory is not enough, you can set `force_col_wise=true`.\n",
      "[LightGBM] [Info] Total Bins 2188\n",
      "[LightGBM] [Info] Number of data points in the train set: 3868, number of used features: 35\n",
      "[LightGBM] [Info] Start training from score -1.123214\n",
      "[LightGBM] [Info] Start training from score -3.024051\n",
      "[LightGBM] [Info] Start training from score -0.468144\n",
      "[LightGBM] [Warning] No further splits with positive gain, best gain: -inf\n",
      "Best parameters: {'Classifier': LGBMClassifier(random_state=42), 'Classifier__learning_rate': 0.1, 'Classifier__max_depth': -1, 'Classifier__n_estimators': 100}\n",
      "Best cross-validation score: 0.8239\n"
     ]
    }
   ],
   "source": [
    "pipeline = Pipeline(steps=[\n",
    "    ('preprocessor',preprocessor),\n",
    "    ('Classifier', None)\n",
    "])\n",
    "\n",
    "param_grid = [\n",
    "    {\n",
    "        # Parameters for RandomForestClassifier\n",
    "        'Classifier': [RandomForestClassifier(random_state=42)], # The model instance\n",
    "        'Classifier__n_estimators': [100, 200],\n",
    "        'Classifier__max_depth': [10, 20],\n",
    "        'Classifier__min_samples_leaf': [1, 5]\n",
    "    },\n",
    "    {\n",
    "        # Parameters for XGBClassifier\n",
    "        'Classifier': [XGBClassifier(use_label_encoder=False, eval_metric='mlogloss', random_state=42)], # The model instance\n",
    "        'Classifier__n_estimators': [100, 200],\n",
    "        'Classifier__max_depth': [5, 10],\n",
    "        'Classifier__learning_rate': [0.05, 0.1]\n",
    "    },\n",
    "    {\n",
    "        # Parameters for LGBMClassifier\n",
    "        'Classifier': [LGBMClassifier(random_state=42)], # The model instance\n",
    "        'Classifier__n_estimators': [100, 200],\n",
    "        'Classifier__max_depth': [10, -1], # -1 means no limit\n",
    "        'Classifier__learning_rate': [0.05, 0.1]\n",
    "    }\n",
    "]\n",
    "\n",
    "grid_search = GridSearchCV(pipeline, param_grid, cv=5, n_jobs=-1, verbose=2, scoring='accuracy')\n",
    "grid_search.fit(X_train, y_train_encoded)\n",
    "\n",
    "print(f\"Best parameters: {grid_search.best_params_}\")\n",
    "print(f\"Best cross-validation score: {grid_search.best_score_:.4f}\")"
   ]
  },
  {
   "cell_type": "markdown",
   "id": "5518c96c-dc6a-41c5-8515-823dc7e26b01",
   "metadata": {},
   "source": [
    "### Prediction on Test set"
   ]
  },
  {
   "cell_type": "code",
   "execution_count": 34,
   "id": "4c26c6e5-c78f-4ecc-ba12-3d33dbc2ecd4",
   "metadata": {},
   "outputs": [
    {
     "name": "stdout",
     "output_type": "stream",
     "text": [
      "Accuracy : 81.80 %\n"
     ]
    }
   ],
   "source": [
    "best_model = grid_search.best_estimator_\n",
    "y_pred = best_model.predict(X_test)\n",
    "acc = accuracy_score(y_test_encoded,y_pred)\n",
    "print(f'Accuracy : {acc * 100:.2f} %')"
   ]
  },
  {
   "cell_type": "markdown",
   "id": "88e0874f-f51f-495c-9057-c6357c6f758c",
   "metadata": {},
   "source": [
    "### Save the Model and Load Model to Make Sure "
   ]
  },
  {
   "cell_type": "code",
   "execution_count": 81,
   "id": "8e6c0196-1e0d-47df-a559-47c90e86f144",
   "metadata": {},
   "outputs": [],
   "source": [
    "with open('LightGBM_Model.pkl', 'wb') as file:\n",
    "    pickle.dump(best_model, file)"
   ]
  },
  {
   "cell_type": "code",
   "execution_count": 88,
   "id": "d6e5f575-5495-48f7-9a0c-5faa5ed0383e",
   "metadata": {},
   "outputs": [
    {
     "name": "stdout",
     "output_type": "stream",
     "text": [
      "Model successfully loaded from LightGBM_Model.pkl\n"
     ]
    }
   ],
   "source": [
    "with open('LightGBM_Model.pkl', 'rb') as file:\n",
    "        loaded_model = pickle.load(file)\n",
    "        print(f\"Model successfully loaded from {'LightGBM_Model.pkl'}\")"
   ]
  },
  {
   "cell_type": "code",
   "execution_count": null,
   "id": "78d5f1a8-a224-475b-a99b-83f70352ba5a",
   "metadata": {},
   "outputs": [],
   "source": []
  },
  {
   "cell_type": "code",
   "execution_count": null,
   "id": "3e572e68-fbc5-41e8-87ff-c4c0363f61da",
   "metadata": {},
   "outputs": [],
   "source": []
  }
 ],
 "metadata": {
  "kernelspec": {
   "display_name": "Python 3 (ipykernel)",
   "language": "python",
   "name": "python3"
  },
  "language_info": {
   "codemirror_mode": {
    "name": "ipython",
    "version": 3
   },
   "file_extension": ".py",
   "mimetype": "text/x-python",
   "name": "python",
   "nbconvert_exporter": "python",
   "pygments_lexer": "ipython3",
   "version": "3.12.7"
  }
 },
 "nbformat": 4,
 "nbformat_minor": 5
}
